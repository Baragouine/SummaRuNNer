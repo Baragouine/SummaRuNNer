{
 "cells": [
  {
   "attachments": {},
   "cell_type": "markdown",
   "id": "606fa719",
   "metadata": {},
   "source": [
    "# Train RNN_RNN"
   ]
  },
  {
   "cell_type": "code",
   "execution_count": 1,
   "id": "a8a5bd39",
   "metadata": {},
   "outputs": [],
   "source": [
    "import os\n",
    "\n",
    "import pandas as pd\n",
    "\n",
    "import torch\n",
    "import torch.nn as nn\n",
    "from torch.autograd import Variable\n",
    "from torch.nn.utils import clip_grad_norm\n",
    "\n",
    "from utils.GloveMgr import GloveMgr\n",
    "from utils.Dataset import Dataset\n",
    "from utils.DataLoader import DataLoader\n",
    "from utils.preprocess_df import preprocess_df\n",
    "\n",
    "#from models.RNN_RNN import RNN_RNN\n",
    "\n",
    "from time import time"
   ]
  },
  {
   "cell_type": "code",
   "execution_count": 2,
   "id": "824eacf5",
   "metadata": {},
   "outputs": [],
   "source": [
    "vocab_size = 150000\n",
    "batch_size = 10\n",
    "epochs = 5\n",
    "learning_rate = 1e-3\n",
    "model_name = \"RNN_RNN\""
   ]
  },
  {
   "cell_type": "code",
   "execution_count": 3,
   "id": "d09bc3ed",
   "metadata": {},
   "outputs": [
    {
     "name": "stdout",
     "output_type": "stream",
     "text": [
      "Number of available GPUs: 1\n",
      "GPU 0: NVIDIA GeForce RTX 3060\n"
     ]
    }
   ],
   "source": [
    "# Check if a GPU is available\n",
    "if torch.cuda.is_available():\n",
    "    # Display the number of available GPUs\n",
    "    print(f\"Number of available GPUs: {torch.cuda.device_count()}\")\n",
    "    # Display the name of each GPU\n",
    "    for i in range(torch.cuda.device_count()):\n",
    "        print(f\"GPU {i}: {torch.cuda.get_device_name(i)}\")\n",
    "else:\n",
    "    print(\"No GPU available.\")"
   ]
  },
  {
   "cell_type": "code",
   "execution_count": 4,
   "id": "b0c5786e",
   "metadata": {},
   "outputs": [
    {
     "data": {
      "text/plain": [
       "device(type='cpu')"
      ]
     },
     "execution_count": 4,
     "metadata": {},
     "output_type": "execute_result"
    }
   ],
   "source": [
    "if torch.cuda.is_available():  \n",
    "  dev = \"cuda:0\" \n",
    "else:  \n",
    "  dev = \"cpu\" \n",
    "\n",
    "device = torch.device(dev)\n",
    "device"
   ]
  },
  {
   "cell_type": "code",
   "execution_count": 5,
   "id": "97644745",
   "metadata": {},
   "outputs": [],
   "source": [
    "glovemgr = GloveMgr(\"./data/glove.6B/glove.6B.100d.txt\", vocab_size=vocab_size)"
   ]
  },
  {
   "cell_type": "code",
   "execution_count": 6,
   "id": "fe745c8d",
   "metadata": {},
   "outputs": [],
   "source": [
    "train_dataset = Dataset(preprocess_df(pd.read_json(\"./data/train.json\"), glovemgr=glovemgr, is_sep_n=True, remove_stop_word=True, stemming=False, trunc_sent=50, padding_sent=50, trunc_doc=100))\n",
    "train_iter = DataLoader(dataset=train_dataset, batch_size=batch_size, shuffle=False)"
   ]
  },
  {
   "cell_type": "code",
   "execution_count": 7,
   "id": "f8b39f3e",
   "metadata": {},
   "outputs": [],
   "source": [
    "val_dataset = Dataset(preprocess_df(pd.read_json(\"./data/val.json\"), glovemgr=glovemgr, is_sep_n=True, remove_stop_word=True, stemming=False, trunc_sent=50, padding_sent=50, trunc_doc=100))\n",
    "val_iter = DataLoader(dataset=val_dataset, batch_size=batch_size, shuffle=False)"
   ]
  },
  {
   "cell_type": "code",
   "execution_count": 8,
   "id": "a8d4a9c6",
   "metadata": {},
   "outputs": [],
   "source": [
    "from models.BasicModel import BasicModel\n",
    "import torch\n",
    "import torch.nn as nn\n",
    "import torch.nn.functional as F\n",
    "from torch.autograd import Variable\n",
    "\n",
    "class RNN_RNN(BasicModel):\n",
    "    def __init__(self, device, vocab_size, word_embed = None):\n",
    "        super(RNN_RNN, self).__init__()\n",
    "\n",
    "        self.device = device\n",
    "\n",
    "        self.word_embedding = nn.Embedding(vocab_size+2, 100, padding_idx=0)\n",
    "        # Load word embedding if specified\n",
    "        if word_embed is not None:\n",
    "            self.word_embedding = torch.nn.Embedding.from_pretrained(torch.from_numpy(word_embed).float())\n",
    "\n",
    "        # 100 : word2vec embedding size\n",
    "        self.word_GRU = nn.GRU(input_size = 100, hidden_size = 200, batch_first = True, bidirectional = True)\n",
    "        self.sent_GRU = nn.GRU(input_size = 2*200, hidden_size=200, batch_first = True, bidirectional = True)\n",
    "\n",
    "        # 10: relative position range size, with segment size = 10\n",
    "        self.rel_pos_emb = nn.Embedding(11, 100)\n",
    "        self.abs_pos_emb = nn.Embedding(100, 100)\n",
    "\n",
    "        self.Wdoc = nn.Linear(2*200,2*200)\n",
    "        self.bias_doc = nn.Parameter(torch.FloatTensor(2*200).uniform_(-0.1,0.1))\n",
    "\n",
    "        self.Wcontent = nn.Linear(2*200,1,bias=False)\n",
    "        self.Wsalience = nn.Bilinear(2*200,2*200,1,bias=False)\n",
    "        self.Wnovelty = nn.Bilinear(2*200,2*200,1,bias=False)\n",
    "        self.Wabs_pos = nn.Linear(100,1,bias=False)\n",
    "        self.Wrel_pos = nn.Linear(100,1,bias=False)\n",
    "        self.bias = nn.Parameter(torch.FloatTensor(1).uniform_(-0.1,0.1))\n",
    "\n",
    "    def avg_pool1d(self,x,seq_lens):\n",
    "        out = []\n",
    "        for index,t in enumerate(x):\n",
    "            if seq_lens[index] == 0:\n",
    "                t = t[:1]\n",
    "            else:\n",
    "                t = t[:seq_lens[index],:]\n",
    "            t = torch.t(t).unsqueeze(0)\n",
    "            out.append(F.avg_pool1d(t,t.size(2)))\n",
    "        \n",
    "        out = torch.cat(out).squeeze(2)\n",
    "        return out\n",
    "\n",
    "    def forward(self, arr_x):\n",
    "        probs = []\n",
    "\n",
    "        # for each document, compute probabilities\n",
    "        for doc in arr_x:\n",
    "            sent_lens = torch.sum(torch.sign(doc),dim=1).data\n",
    "            x = self.word_embedding(doc)\n",
    "            x = self.word_GRU(x)[0]\n",
    "            x = self.avg_pool1d(x, sent_lens)\n",
    "            x = self.sent_GRU(x)[0]\n",
    "            d = x\n",
    "            d = d.unsqueeze(0)\n",
    "            d = self.avg_pool1d(d, [d[0].shape[0]])\n",
    "            d = torch.tanh(self.Wdoc(d[0]) + self.bias_doc).unsqueeze(0)\n",
    "            prob_doc = []\n",
    "            s = torch.zeros(1,2*200)\n",
    "            s = s.to(self.device)\n",
    "            for position, h in enumerate(x):\n",
    "                h = h.view(1, -1) # resize\n",
    "                # Compute position embedding\n",
    "                abs_pos = Variable(torch.LongTensor([[position]]))\n",
    "                abs_pos = abs_pos.to(self.device)\n",
    "                abs_pos = self.abs_pos_emb(abs_pos).squeeze(0)\n",
    "\n",
    "                # Compute relative position embedding\n",
    "                rel_pos = int(round(position / 10))\n",
    "                rel_pos = Variable(torch.LongTensor([[rel_pos]]))\n",
    "                rel_pos = rel_pos.to(self.device)\n",
    "                rel_pos = self.rel_pos_emb(rel_pos).squeeze(0)\n",
    "\n",
    "                # Compute proba\n",
    "                content = self.Wcontent(h)\n",
    "                salience = self.Wsalience(h, d)\n",
    "                novelty = -1 * self.Wnovelty(h,F.tanh(s))\n",
    "                ap = self.Wabs_pos(abs_pos)\n",
    "                rp = self.Wrel_pos(rel_pos)\n",
    "                prob = torch.sigmoid(content+salience+novelty+ap+rp+self.bias)\n",
    "\n",
    "                prob_doc.append(prob)\n",
    "\n",
    "                s = s + torch.mm(prob,h)\n",
    "\n",
    "            probs.append(torch.tensor(prob_doc, requires_grad=True))\n",
    "\n",
    "        probs = torch.cat(probs)\n",
    "        probs = probs.to(self.device)\n",
    "        return probs"
   ]
  },
  {
   "cell_type": "code",
   "execution_count": 9,
   "id": "380f8ba1",
   "metadata": {},
   "outputs": [],
   "source": [
    "model = RNN_RNN(device=device, vocab_size=vocab_size, word_embed=glovemgr.getEmbeddings())"
   ]
  },
  {
   "cell_type": "code",
   "execution_count": 10,
   "id": "2ae1a236",
   "metadata": {},
   "outputs": [
    {
     "data": {
      "text/plain": [
       "RNN_RNN(\n",
       "  (word_embedding): Embedding(150002, 100)\n",
       "  (word_GRU): GRU(100, 200, batch_first=True, bidirectional=True)\n",
       "  (sent_GRU): GRU(400, 200, batch_first=True, bidirectional=True)\n",
       "  (rel_pos_emb): Embedding(11, 100)\n",
       "  (abs_pos_emb): Embedding(100, 100)\n",
       "  (Wdoc): Linear(in_features=400, out_features=400, bias=True)\n",
       "  (Wcontent): Linear(in_features=400, out_features=1, bias=False)\n",
       "  (Wsalience): Bilinear(in1_features=400, in2_features=400, out_features=1, bias=False)\n",
       "  (Wnovelty): Bilinear(in1_features=400, in2_features=400, out_features=1, bias=False)\n",
       "  (Wabs_pos): Linear(in_features=100, out_features=1, bias=False)\n",
       "  (Wrel_pos): Linear(in_features=100, out_features=1, bias=False)\n",
       ")"
      ]
     },
     "execution_count": 10,
     "metadata": {},
     "output_type": "execute_result"
    }
   ],
   "source": [
    "model.to(device)"
   ]
  },
  {
   "cell_type": "code",
   "execution_count": 11,
   "id": "4bc411ce",
   "metadata": {},
   "outputs": [
    {
     "data": {
      "text/plain": [
       "RNN_RNN(\n",
       "  (word_embedding): Embedding(150002, 100)\n",
       "  (word_GRU): GRU(100, 200, batch_first=True, bidirectional=True)\n",
       "  (sent_GRU): GRU(400, 200, batch_first=True, bidirectional=True)\n",
       "  (rel_pos_emb): Embedding(11, 100)\n",
       "  (abs_pos_emb): Embedding(100, 100)\n",
       "  (Wdoc): Linear(in_features=400, out_features=400, bias=True)\n",
       "  (Wcontent): Linear(in_features=400, out_features=1, bias=False)\n",
       "  (Wsalience): Bilinear(in1_features=400, in2_features=400, out_features=1, bias=False)\n",
       "  (Wnovelty): Bilinear(in1_features=400, in2_features=400, out_features=1, bias=False)\n",
       "  (Wabs_pos): Linear(in_features=100, out_features=1, bias=False)\n",
       "  (Wrel_pos): Linear(in_features=100, out_features=1, bias=False)\n",
       ")"
      ]
     },
     "execution_count": 11,
     "metadata": {},
     "output_type": "execute_result"
    }
   ],
   "source": [
    "loss_fn = nn.BCELoss()\n",
    "optimizer = torch.optim.Adadelta(model.parameters(),lr=learning_rate)\n",
    "model.train()"
   ]
  },
  {
   "cell_type": "code",
   "execution_count": 12,
   "id": "5c803c4f",
   "metadata": {},
   "outputs": [],
   "source": [
    "if not os.path.exists(\"./checkpoints\"):\n",
    "    os.makedirs(\"./checkpoints\")"
   ]
  },
  {
   "cell_type": "code",
   "execution_count": 13,
   "id": "0991d3c5",
   "metadata": {},
   "outputs": [
    {
     "name": "stdout",
     "output_type": "stream",
     "text": [
      "batch  0\n"
     ]
    },
    {
     "name": "stderr",
     "output_type": "stream",
     "text": [
      "/home/rsaid/anaconda3/lib/python3.9/site-packages/torch/nn/functional.py:1956: UserWarning: nn.functional.tanh is deprecated. Use torch.tanh instead.\n",
      "  warnings.warn(\"nn.functional.tanh is deprecated. Use torch.tanh instead.\")\n"
     ]
    },
    {
     "name": "stdout",
     "output_type": "stream",
     "text": [
      "torch.Size([288])  ~ torch.Size([288])\n",
      "batch  1\n"
     ]
    },
    {
     "name": "stderr",
     "output_type": "stream",
     "text": [
      "/tmp/ipykernel_2451083/3290048786.py:15: UserWarning: torch.nn.utils.clip_grad_norm is now deprecated in favor of torch.nn.utils.clip_grad_norm_.\n",
      "  clip_grad_norm(model.parameters(), 1.0)\n"
     ]
    },
    {
     "name": "stdout",
     "output_type": "stream",
     "text": [
      "torch.Size([255])  ~ torch.Size([255])\n",
      "batch  2\n",
      "torch.Size([288])  ~ torch.Size([288])\n",
      "batch  3\n",
      "torch.Size([219])  ~ torch.Size([219])\n",
      "batch  4\n",
      "torch.Size([285])  ~ torch.Size([285])\n",
      "batch  5\n",
      "torch.Size([206])  ~ torch.Size([206])\n",
      "batch  6\n",
      "torch.Size([228])  ~ torch.Size([228])\n",
      "batch  7\n",
      "torch.Size([273])  ~ torch.Size([273])\n",
      "batch  8\n",
      "torch.Size([227])  ~ torch.Size([227])\n",
      "batch  9\n",
      "torch.Size([286])  ~ torch.Size([286])\n",
      "batch  10\n",
      "torch.Size([213])  ~ torch.Size([213])\n",
      "batch  11\n",
      "torch.Size([192])  ~ torch.Size([192])\n",
      "batch  12\n",
      "torch.Size([214])  ~ torch.Size([214])\n",
      "batch  13\n",
      "torch.Size([268])  ~ torch.Size([268])\n",
      "batch  14\n",
      "torch.Size([197])  ~ torch.Size([197])\n",
      "batch  15\n",
      "torch.Size([197])  ~ torch.Size([197])\n",
      "batch  16\n",
      "torch.Size([221])  ~ torch.Size([221])\n",
      "batch  17\n",
      "torch.Size([280])  ~ torch.Size([280])\n",
      "batch  18\n",
      "torch.Size([296])  ~ torch.Size([296])\n",
      "batch  19\n",
      "torch.Size([231])  ~ torch.Size([231])\n",
      "batch  20\n",
      "torch.Size([226])  ~ torch.Size([226])\n",
      "batch  21\n",
      "torch.Size([276])  ~ torch.Size([276])\n",
      "batch  22\n",
      "torch.Size([234])  ~ torch.Size([234])\n",
      "batch  23\n",
      "torch.Size([239])  ~ torch.Size([239])\n",
      "batch  24\n",
      "torch.Size([295])  ~ torch.Size([295])\n",
      "batch  25\n",
      "torch.Size([277])  ~ torch.Size([277])\n",
      "batch  26\n",
      "torch.Size([183])  ~ torch.Size([183])\n",
      "batch  27\n",
      "torch.Size([212])  ~ torch.Size([212])\n",
      "batch  28\n",
      "torch.Size([285])  ~ torch.Size([285])\n",
      "batch  29\n",
      "torch.Size([223])  ~ torch.Size([223])\n",
      "batch  30\n",
      "torch.Size([383])  ~ torch.Size([383])\n",
      "batch  31\n",
      "torch.Size([219])  ~ torch.Size([219])\n",
      "batch  32\n",
      "torch.Size([308])  ~ torch.Size([308])\n",
      "batch  33\n",
      "torch.Size([233])  ~ torch.Size([233])\n",
      "batch  34\n",
      "torch.Size([238])  ~ torch.Size([238])\n",
      "batch  35\n",
      "torch.Size([301])  ~ torch.Size([301])\n",
      "batch  36\n",
      "torch.Size([268])  ~ torch.Size([268])\n",
      "batch  37\n",
      "torch.Size([255])  ~ torch.Size([255])\n",
      "batch  38\n",
      "torch.Size([253])  ~ torch.Size([253])\n",
      "batch  39\n",
      "torch.Size([259])  ~ torch.Size([259])\n",
      "batch  40\n",
      "torch.Size([289])  ~ torch.Size([289])\n",
      "batch  41\n",
      "torch.Size([263])  ~ torch.Size([263])\n",
      "batch  42\n",
      "torch.Size([290])  ~ torch.Size([290])\n",
      "batch  43\n",
      "torch.Size([301])  ~ torch.Size([301])\n",
      "batch  44\n",
      "torch.Size([236])  ~ torch.Size([236])\n",
      "batch  45\n",
      "torch.Size([223])  ~ torch.Size([223])\n",
      "batch  46\n",
      "torch.Size([366])  ~ torch.Size([366])\n",
      "batch  47\n",
      "torch.Size([306])  ~ torch.Size([306])\n",
      "batch  48\n",
      "torch.Size([302])  ~ torch.Size([302])\n",
      "batch  49\n",
      "torch.Size([250])  ~ torch.Size([250])\n",
      "batch  50\n",
      "torch.Size([312])  ~ torch.Size([312])\n",
      "batch  51\n",
      "torch.Size([374])  ~ torch.Size([374])\n",
      "batch  52\n",
      "torch.Size([289])  ~ torch.Size([289])\n",
      "batch  53\n",
      "torch.Size([240])  ~ torch.Size([240])\n",
      "batch  54\n",
      "torch.Size([205])  ~ torch.Size([205])\n",
      "batch  55\n",
      "torch.Size([251])  ~ torch.Size([251])\n",
      "batch  56\n",
      "torch.Size([248])  ~ torch.Size([248])\n",
      "batch  57\n",
      "torch.Size([234])  ~ torch.Size([234])\n",
      "batch  58\n",
      "torch.Size([186])  ~ torch.Size([186])\n",
      "batch  59\n",
      "torch.Size([232])  ~ torch.Size([232])\n",
      "batch  60\n",
      "torch.Size([243])  ~ torch.Size([243])\n",
      "batch  61\n",
      "torch.Size([323])  ~ torch.Size([323])\n",
      "batch  62\n",
      "torch.Size([253])  ~ torch.Size([253])\n",
      "batch  63\n",
      "torch.Size([275])  ~ torch.Size([275])\n",
      "batch  64\n",
      "torch.Size([247])  ~ torch.Size([247])\n",
      "batch  65\n",
      "torch.Size([244])  ~ torch.Size([244])\n",
      "batch  66\n",
      "torch.Size([277])  ~ torch.Size([277])\n",
      "batch  67\n",
      "torch.Size([244])  ~ torch.Size([244])\n",
      "batch  68\n",
      "torch.Size([223])  ~ torch.Size([223])\n",
      "batch  69\n",
      "torch.Size([281])  ~ torch.Size([281])\n",
      "batch  70\n",
      "torch.Size([238])  ~ torch.Size([238])\n",
      "batch  71\n",
      "torch.Size([285])  ~ torch.Size([285])\n",
      "batch  72\n",
      "torch.Size([329])  ~ torch.Size([329])\n",
      "batch  73\n",
      "torch.Size([252])  ~ torch.Size([252])\n",
      "batch  74\n",
      "torch.Size([254])  ~ torch.Size([254])\n",
      "batch  75\n",
      "torch.Size([209])  ~ torch.Size([209])\n",
      "batch  76\n",
      "torch.Size([230])  ~ torch.Size([230])\n",
      "batch  77\n",
      "torch.Size([266])  ~ torch.Size([266])\n",
      "batch  78\n",
      "torch.Size([198])  ~ torch.Size([198])\n",
      "batch  79\n",
      "torch.Size([276])  ~ torch.Size([276])\n",
      "batch  80\n",
      "torch.Size([377])  ~ torch.Size([377])\n",
      "batch  81\n",
      "torch.Size([263])  ~ torch.Size([263])\n",
      "batch  82\n",
      "torch.Size([230])  ~ torch.Size([230])\n",
      "batch  83\n",
      "torch.Size([217])  ~ torch.Size([217])\n",
      "batch  84\n",
      "torch.Size([322])  ~ torch.Size([322])\n",
      "batch  85\n",
      "torch.Size([273])  ~ torch.Size([273])\n",
      "batch  86\n",
      "torch.Size([211])  ~ torch.Size([211])\n",
      "batch  87\n",
      "torch.Size([246])  ~ torch.Size([246])\n",
      "batch  88\n",
      "torch.Size([220])  ~ torch.Size([220])\n",
      "batch  89\n",
      "torch.Size([203])  ~ torch.Size([203])\n",
      "batch  90\n",
      "torch.Size([218])  ~ torch.Size([218])\n",
      "batch  91\n",
      "torch.Size([236])  ~ torch.Size([236])\n",
      "batch  92\n",
      "torch.Size([302])  ~ torch.Size([302])\n",
      "batch  93\n",
      "torch.Size([265])  ~ torch.Size([265])\n",
      "batch  94\n",
      "torch.Size([266])  ~ torch.Size([266])\n",
      "batch  95\n",
      "torch.Size([185])  ~ torch.Size([185])\n",
      "batch  96\n",
      "torch.Size([317])  ~ torch.Size([317])\n",
      "batch  97\n",
      "torch.Size([250])  ~ torch.Size([250])\n",
      "batch  98\n",
      "torch.Size([281])  ~ torch.Size([281])\n",
      "batch  99\n",
      "torch.Size([297])  ~ torch.Size([297])\n",
      "batch  0\n",
      "torch.Size([288])  ~ torch.Size([288])\n",
      "batch  1\n",
      "torch.Size([255])  ~ torch.Size([255])\n",
      "batch  2\n",
      "torch.Size([288])  ~ torch.Size([288])\n",
      "batch  3\n",
      "torch.Size([219])  ~ torch.Size([219])\n",
      "batch  4\n",
      "torch.Size([285])  ~ torch.Size([285])\n",
      "batch  5\n",
      "torch.Size([206])  ~ torch.Size([206])\n",
      "batch  6\n",
      "torch.Size([228])  ~ torch.Size([228])\n",
      "batch  7\n",
      "torch.Size([273])  ~ torch.Size([273])\n",
      "batch  8\n",
      "torch.Size([227])  ~ torch.Size([227])\n",
      "batch  9\n",
      "torch.Size([286])  ~ torch.Size([286])\n",
      "batch  10\n"
     ]
    },
    {
     "ename": "KeyboardInterrupt",
     "evalue": "",
     "output_type": "error",
     "traceback": [
      "\u001b[0;31m---------------------------------------------------------------------------\u001b[0m",
      "\u001b[0;31mKeyboardInterrupt\u001b[0m                         Traceback (most recent call last)",
      "\u001b[1;32m/home/rsaid/stage/code/SummaRuNNer/tmp.ipynb Cellule 14\u001b[0m in \u001b[0;36m<cell line: 2>\u001b[0;34m()\u001b[0m\n\u001b[1;32m      <a href='vscode-notebook-cell:/home/rsaid/stage/code/SummaRuNNer/tmp.ipynb#X16sZmlsZQ%3D%3D?line=6'>7</a>\u001b[0m targets \u001b[39m=\u001b[39m torch\u001b[39m.\u001b[39mcat(targets)\n\u001b[1;32m      <a href='vscode-notebook-cell:/home/rsaid/stage/code/SummaRuNNer/tmp.ipynb#X16sZmlsZQ%3D%3D?line=7'>8</a>\u001b[0m targets \u001b[39m=\u001b[39m targets\u001b[39m.\u001b[39mto(device)\n\u001b[0;32m---> <a href='vscode-notebook-cell:/home/rsaid/stage/code/SummaRuNNer/tmp.ipynb#X16sZmlsZQ%3D%3D?line=9'>10</a>\u001b[0m probs \u001b[39m=\u001b[39m model(features)\n\u001b[1;32m     <a href='vscode-notebook-cell:/home/rsaid/stage/code/SummaRuNNer/tmp.ipynb#X16sZmlsZQ%3D%3D?line=10'>11</a>\u001b[0m \u001b[39mprint\u001b[39m(probs\u001b[39m.\u001b[39mshape, \u001b[39m\"\u001b[39m\u001b[39m ~\u001b[39m\u001b[39m\"\u001b[39m, targets\u001b[39m.\u001b[39mshape)\n\u001b[1;32m     <a href='vscode-notebook-cell:/home/rsaid/stage/code/SummaRuNNer/tmp.ipynb#X16sZmlsZQ%3D%3D?line=11'>12</a>\u001b[0m loss \u001b[39m=\u001b[39m loss_fn(probs, targets)\n",
      "File \u001b[0;32m~/anaconda3/lib/python3.9/site-packages/torch/nn/modules/module.py:1194\u001b[0m, in \u001b[0;36mModule._call_impl\u001b[0;34m(self, *input, **kwargs)\u001b[0m\n\u001b[1;32m   1190\u001b[0m \u001b[39m# If we don't have any hooks, we want to skip the rest of the logic in\u001b[39;00m\n\u001b[1;32m   1191\u001b[0m \u001b[39m# this function, and just call forward.\u001b[39;00m\n\u001b[1;32m   1192\u001b[0m \u001b[39mif\u001b[39;00m \u001b[39mnot\u001b[39;00m (\u001b[39mself\u001b[39m\u001b[39m.\u001b[39m_backward_hooks \u001b[39mor\u001b[39;00m \u001b[39mself\u001b[39m\u001b[39m.\u001b[39m_forward_hooks \u001b[39mor\u001b[39;00m \u001b[39mself\u001b[39m\u001b[39m.\u001b[39m_forward_pre_hooks \u001b[39mor\u001b[39;00m _global_backward_hooks\n\u001b[1;32m   1193\u001b[0m         \u001b[39mor\u001b[39;00m _global_forward_hooks \u001b[39mor\u001b[39;00m _global_forward_pre_hooks):\n\u001b[0;32m-> 1194\u001b[0m     \u001b[39mreturn\u001b[39;00m forward_call(\u001b[39m*\u001b[39;49m\u001b[39minput\u001b[39;49m, \u001b[39m*\u001b[39;49m\u001b[39m*\u001b[39;49mkwargs)\n\u001b[1;32m   1195\u001b[0m \u001b[39m# Do not call functions when jit is used\u001b[39;00m\n\u001b[1;32m   1196\u001b[0m full_backward_hooks, non_full_backward_hooks \u001b[39m=\u001b[39m [], []\n",
      "\u001b[1;32m/home/rsaid/stage/code/SummaRuNNer/tmp.ipynb Cellule 14\u001b[0m in \u001b[0;36mRNN_RNN.forward\u001b[0;34m(self, arr_x)\u001b[0m\n\u001b[1;32m     <a href='vscode-notebook-cell:/home/rsaid/stage/code/SummaRuNNer/tmp.ipynb#X16sZmlsZQ%3D%3D?line=53'>54</a>\u001b[0m sent_lens \u001b[39m=\u001b[39m torch\u001b[39m.\u001b[39msum(torch\u001b[39m.\u001b[39msign(doc),dim\u001b[39m=\u001b[39m\u001b[39m1\u001b[39m)\u001b[39m.\u001b[39mdata\n\u001b[1;32m     <a href='vscode-notebook-cell:/home/rsaid/stage/code/SummaRuNNer/tmp.ipynb#X16sZmlsZQ%3D%3D?line=54'>55</a>\u001b[0m x \u001b[39m=\u001b[39m \u001b[39mself\u001b[39m\u001b[39m.\u001b[39mword_embedding(doc)\n\u001b[0;32m---> <a href='vscode-notebook-cell:/home/rsaid/stage/code/SummaRuNNer/tmp.ipynb#X16sZmlsZQ%3D%3D?line=55'>56</a>\u001b[0m x \u001b[39m=\u001b[39m \u001b[39mself\u001b[39;49m\u001b[39m.\u001b[39;49mword_GRU(x)[\u001b[39m0\u001b[39m]\n\u001b[1;32m     <a href='vscode-notebook-cell:/home/rsaid/stage/code/SummaRuNNer/tmp.ipynb#X16sZmlsZQ%3D%3D?line=56'>57</a>\u001b[0m x \u001b[39m=\u001b[39m \u001b[39mself\u001b[39m\u001b[39m.\u001b[39mavg_pool1d(x, sent_lens)\n\u001b[1;32m     <a href='vscode-notebook-cell:/home/rsaid/stage/code/SummaRuNNer/tmp.ipynb#X16sZmlsZQ%3D%3D?line=57'>58</a>\u001b[0m x \u001b[39m=\u001b[39m \u001b[39mself\u001b[39m\u001b[39m.\u001b[39msent_GRU(x)[\u001b[39m0\u001b[39m]\n",
      "File \u001b[0;32m~/anaconda3/lib/python3.9/site-packages/torch/nn/modules/module.py:1194\u001b[0m, in \u001b[0;36mModule._call_impl\u001b[0;34m(self, *input, **kwargs)\u001b[0m\n\u001b[1;32m   1190\u001b[0m \u001b[39m# If we don't have any hooks, we want to skip the rest of the logic in\u001b[39;00m\n\u001b[1;32m   1191\u001b[0m \u001b[39m# this function, and just call forward.\u001b[39;00m\n\u001b[1;32m   1192\u001b[0m \u001b[39mif\u001b[39;00m \u001b[39mnot\u001b[39;00m (\u001b[39mself\u001b[39m\u001b[39m.\u001b[39m_backward_hooks \u001b[39mor\u001b[39;00m \u001b[39mself\u001b[39m\u001b[39m.\u001b[39m_forward_hooks \u001b[39mor\u001b[39;00m \u001b[39mself\u001b[39m\u001b[39m.\u001b[39m_forward_pre_hooks \u001b[39mor\u001b[39;00m _global_backward_hooks\n\u001b[1;32m   1193\u001b[0m         \u001b[39mor\u001b[39;00m _global_forward_hooks \u001b[39mor\u001b[39;00m _global_forward_pre_hooks):\n\u001b[0;32m-> 1194\u001b[0m     \u001b[39mreturn\u001b[39;00m forward_call(\u001b[39m*\u001b[39;49m\u001b[39minput\u001b[39;49m, \u001b[39m*\u001b[39;49m\u001b[39m*\u001b[39;49mkwargs)\n\u001b[1;32m   1195\u001b[0m \u001b[39m# Do not call functions when jit is used\u001b[39;00m\n\u001b[1;32m   1196\u001b[0m full_backward_hooks, non_full_backward_hooks \u001b[39m=\u001b[39m [], []\n",
      "File \u001b[0;32m~/anaconda3/lib/python3.9/site-packages/torch/nn/modules/rnn.py:955\u001b[0m, in \u001b[0;36mGRU.forward\u001b[0;34m(self, input, hx)\u001b[0m\n\u001b[1;32m    953\u001b[0m \u001b[39mself\u001b[39m\u001b[39m.\u001b[39mcheck_forward_args(\u001b[39minput\u001b[39m, hx, batch_sizes)\n\u001b[1;32m    954\u001b[0m \u001b[39mif\u001b[39;00m batch_sizes \u001b[39mis\u001b[39;00m \u001b[39mNone\u001b[39;00m:\n\u001b[0;32m--> 955\u001b[0m     result \u001b[39m=\u001b[39m _VF\u001b[39m.\u001b[39;49mgru(\u001b[39minput\u001b[39;49m, hx, \u001b[39mself\u001b[39;49m\u001b[39m.\u001b[39;49m_flat_weights, \u001b[39mself\u001b[39;49m\u001b[39m.\u001b[39;49mbias, \u001b[39mself\u001b[39;49m\u001b[39m.\u001b[39;49mnum_layers,\n\u001b[1;32m    956\u001b[0m                      \u001b[39mself\u001b[39;49m\u001b[39m.\u001b[39;49mdropout, \u001b[39mself\u001b[39;49m\u001b[39m.\u001b[39;49mtraining, \u001b[39mself\u001b[39;49m\u001b[39m.\u001b[39;49mbidirectional, \u001b[39mself\u001b[39;49m\u001b[39m.\u001b[39;49mbatch_first)\n\u001b[1;32m    957\u001b[0m \u001b[39melse\u001b[39;00m:\n\u001b[1;32m    958\u001b[0m     result \u001b[39m=\u001b[39m _VF\u001b[39m.\u001b[39mgru(\u001b[39minput\u001b[39m, batch_sizes, hx, \u001b[39mself\u001b[39m\u001b[39m.\u001b[39m_flat_weights, \u001b[39mself\u001b[39m\u001b[39m.\u001b[39mbias,\n\u001b[1;32m    959\u001b[0m                      \u001b[39mself\u001b[39m\u001b[39m.\u001b[39mnum_layers, \u001b[39mself\u001b[39m\u001b[39m.\u001b[39mdropout, \u001b[39mself\u001b[39m\u001b[39m.\u001b[39mtraining, \u001b[39mself\u001b[39m\u001b[39m.\u001b[39mbidirectional)\n",
      "\u001b[0;31mKeyboardInterrupt\u001b[0m: "
     ]
    }
   ],
   "source": [
    "t1 = time() \n",
    "for epoch in range(1, epochs+1):\n",
    "    for i,batch in enumerate(train_iter):\n",
    "        print(\"batch \", i)\n",
    "        features = [Variable(torch.LongTensor(batch[j][\"doc\"])).to(device) for j in range(batch_size)]\n",
    "        targets = [Variable(torch.FloatTensor(batch[j][\"labels\"])) for j in range(batch_size)]\n",
    "        targets = torch.cat(targets)\n",
    "        targets = targets.to(device)\n",
    "        \n",
    "        probs = model(features)\n",
    "        print(probs.shape, \" ~\", targets.shape)\n",
    "        loss = loss_fn(probs, targets)\n",
    "        optimizer.zero_grad()\n",
    "        loss.backward()\n",
    "        clip_grad_norm(model.parameters(), 1.0)\n",
    "        optimizer.step()\n",
    "\n",
    "t2 = time()\n",
    "print(\"Training duration =\", t2-t1)\n",
    "\n"
   ]
  },
  {
   "cell_type": "code",
   "execution_count": null,
   "id": "3edbae7a",
   "metadata": {},
   "outputs": [
    {
     "ename": "IndexError",
     "evalue": "list index out of range",
     "output_type": "error",
     "traceback": [
      "\u001b[0;31m---------------------------------------------------------------------------\u001b[0m",
      "\u001b[0;31mIndexError\u001b[0m                                Traceback (most recent call last)",
      "\u001b[1;32m/home/rsaid/stage/code/SummaRuNNer/tmp.ipynb Cellule 15\u001b[0m in \u001b[0;36m<cell line: 1>\u001b[0;34m()\u001b[0m\n\u001b[0;32m----> <a href='vscode-notebook-cell:/home/rsaid/stage/code/SummaRuNNer/tmp.ipynb#X20sZmlsZQ%3D%3D?line=0'>1</a>\u001b[0m train_iter\u001b[39m.\u001b[39;49m\u001b[39m__getitem__\u001b[39;49m(\u001b[39m80\u001b[39;49m)\n",
      "File \u001b[0;32m~/stage/code/SummaRuNNer/utils/DataLoader.py:33\u001b[0m, in \u001b[0;36mDataLoader.__getitem__\u001b[0;34m(self, idx)\u001b[0m\n\u001b[1;32m     31\u001b[0m         random\u001b[39m.\u001b[39mshuffle(\u001b[39mself\u001b[39m\u001b[39m.\u001b[39mlidx)\n\u001b[1;32m     32\u001b[0m \u001b[39mif\u001b[39;00m (idx \u001b[39m>\u001b[39m\u001b[39m=\u001b[39m \u001b[39mlen\u001b[39m(\u001b[39mself\u001b[39m\u001b[39m.\u001b[39mlidx) \u001b[39m/\u001b[39m \u001b[39mself\u001b[39m\u001b[39m.\u001b[39mbatch_size):\n\u001b[0;32m---> 33\u001b[0m     \u001b[39mreturn\u001b[39;00m \u001b[39mself\u001b[39;49m\u001b[39m.\u001b[39;49mdataset[\u001b[39mlen\u001b[39;49m(\u001b[39mself\u001b[39;49m\u001b[39m.\u001b[39;49mdataset)]\n\u001b[1;32m     34\u001b[0m idxs \u001b[39m=\u001b[39m \u001b[39mself\u001b[39m\u001b[39m.\u001b[39mlidx[idx\u001b[39m*\u001b[39m\u001b[39mself\u001b[39m\u001b[39m.\u001b[39mbatch_size:idx\u001b[39m*\u001b[39m\u001b[39mself\u001b[39m\u001b[39m.\u001b[39mbatch_size\u001b[39m+\u001b[39m\u001b[39mself\u001b[39m\u001b[39m.\u001b[39mbatch_size]\n\u001b[1;32m     35\u001b[0m \u001b[39mreturn\u001b[39;00m [\u001b[39mself\u001b[39m\u001b[39m.\u001b[39mdataset[i] \u001b[39mfor\u001b[39;00m i \u001b[39min\u001b[39;00m idxs]\n",
      "File \u001b[0;32m~/stage/code/SummaRuNNer/utils/Dataset.py:10\u001b[0m, in \u001b[0;36mDataset.__getitem__\u001b[0;34m(self, idx)\u001b[0m\n\u001b[1;32m      9\u001b[0m \u001b[39mdef\u001b[39;00m \u001b[39m__getitem__\u001b[39m(\u001b[39mself\u001b[39m, idx):\n\u001b[0;32m---> 10\u001b[0m     \u001b[39mreturn\u001b[39;00m \u001b[39mself\u001b[39;49m\u001b[39m.\u001b[39;49mexamples[idx]\n",
      "\u001b[0;31mIndexError\u001b[0m: list index out of range"
     ]
    }
   ],
   "source": [
    "train_iter.__getitem__(80)"
   ]
  },
  {
   "cell_type": "code",
   "execution_count": null,
   "id": "3ca7cee4",
   "metadata": {},
   "outputs": [],
   "source": []
  }
 ],
 "metadata": {
  "kernelspec": {
   "display_name": "base",
   "language": "python",
   "name": "python3"
  },
  "language_info": {
   "codemirror_mode": {
    "name": "ipython",
    "version": 3
   },
   "file_extension": ".py",
   "mimetype": "text/x-python",
   "name": "python",
   "nbconvert_exporter": "python",
   "pygments_lexer": "ipython3",
   "version": "3.9.13"
  },
  "vscode": {
   "interpreter": {
    "hash": "6d7f428a150b92572ac46240b6d7ae68586908362b054f21341550673eeb77dc"
   }
  }
 },
 "nbformat": 4,
 "nbformat_minor": 5
}
